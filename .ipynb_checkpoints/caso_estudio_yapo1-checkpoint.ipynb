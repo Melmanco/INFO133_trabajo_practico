{
 "cells": [
  {
   "cell_type": "markdown",
   "metadata": {},
   "source": [
    "# 1. Construcción de Base de Datos"
   ]
  },
  {
   "cell_type": "code",
   "execution_count": 39,
   "metadata": {},
   "outputs": [],
   "source": [
    "import mysql.connector\n",
    "\n",
    "dbConnection = mysql.connector.connect(user='root', host='localhost', password='')\n",
    "cursor = dbConnection.cursor()"
   ]
  },
  {
   "cell_type": "code",
   "execution_count": 40,
   "metadata": {},
   "outputs": [],
   "source": [
    "#si no existe la database, no la elimina\n",
    "try:\n",
    "    cursor.execute('DROP DATABASE Yapo;')\n",
    "except mysql.connector.errors.DatabaseError:\n",
    "    pass"
   ]
  },
  {
   "cell_type": "code",
   "execution_count": 41,
   "metadata": {},
   "outputs": [],
   "source": [
    "cursor.execute('CREATE DATABASE Yapo;')\n",
    "cursor.execute('USE Yapo;')\n",
    "\n",
    "#tabla de usuario\n",
    "cursor.execute('''CREATE TABLE usuario (\n",
    "                nombre VARCHAR(100) PRIMARY KEY, ciudad VARCHAR(30),\n",
    "                codigo_region VARCHAR(3), nombre_region VARCHAR(30));''')\n",
    "\n",
    "#tabla de anuncio\n",
    "cursor.execute('''CREATE TABLE anuncio (\n",
    "                url VARCHAR(300) PRIMARY KEY, titulo VARCHAR(200), descripcion MEDIUMTEXT,\n",
    "                precio VARCHAR(30), categoria VARCHAR(50), fecha DATE, vendedor VARCHAR(100),\n",
    "                FOREIGN KEY (vendedor) REFERENCES usuario(nombre));''')"
   ]
  },
  {
   "cell_type": "markdown",
   "metadata": {},
   "source": [
    "# 2. Scrapping para llenar base de datos"
   ]
  },
  {
   "cell_type": "code",
   "execution_count": 42,
   "metadata": {},
   "outputs": [],
   "source": [
    "from bs4 import BeautifulSoup\n",
    "from selenium import webdriver"
   ]
  },
  {
   "cell_type": "markdown",
   "metadata": {},
   "source": [
    "Con el webdriver de la librería selenium, abrimos un navegador Chrome en la página de todos los anuncios de Yapo"
   ]
  },
  {
   "cell_type": "code",
   "execution_count": 43,
   "metadata": {},
   "outputs": [],
   "source": [
    "browser = webdriver.Chrome()\n",
    "yapoUrl = 'https://www.yapo.cl/chile/todos_los_avisos?ca=12_s&l=0'\n",
    "browser.get(yapoUrl)"
   ]
  },
  {
   "cell_type": "markdown",
   "metadata": {},
   "source": [
    "Con la librería BeautifulSoup, realizamos un scrapping para obtener el url de \"última página\""
   ]
  },
  {
   "cell_type": "code",
   "execution_count": 44,
   "metadata": {},
   "outputs": [],
   "source": [
    "soup = BeautifulSoup(browser.page_source, 'html.parser')\n",
    "\n",
    "pages = soup.find('span', {'class', 'nohistory FloatRight'}).a['href']"
   ]
  },
  {
   "cell_type": "code",
   "execution_count": 45,
   "metadata": {
    "scrolled": true
   },
   "outputs": [
    {
     "data": {
      "text/plain": [
       "'https://www.yapo.cl/chile?ca=12_s&o=27884'"
      ]
     },
     "execution_count": 45,
     "metadata": {},
     "output_type": "execute_result"
    }
   ],
   "source": [
    "pages"
   ]
  },
  {
   "cell_type": "markdown",
   "metadata": {},
   "source": [
    "El parámetro \"o\" corresponde al número de la página, así que usaremos este para recorrer todas las páginas de anuncios"
   ]
  },
  {
   "cell_type": "code",
   "execution_count": 46,
   "metadata": {},
   "outputs": [
    {
     "name": "stdout",
     "output_type": "stream",
     "text": [
      "35\n",
      "27884\n",
      "https://www.yapo.cl/chile?ca=12_s&o=\n"
     ]
    }
   ],
   "source": [
    "index = pages.rfind('=')\n",
    "print(index)\n",
    "lastPage = int(pages[index+1:])\n",
    "print(lastPage)\n",
    "pages = pages[:index+1]\n",
    "print(pages)"
   ]
  },
  {
   "cell_type": "markdown",
   "metadata": {},
   "source": [
    "\"index\"   : corresponde al índice del último caracter \"=\"\n",
    "\"lastPage\": corresponde al número de la última página de anuncios\n",
    "\"pages\"   : es el enlace \"base\" que vamos a usar para iterar por todas las páginas de anuncios de chile"
   ]
  },
  {
   "cell_type": "code",
   "execution_count": 47,
   "metadata": {
    "scrolled": true
   },
   "outputs": [
    {
     "name": "stdout",
     "output_type": "stream",
     "text": [
      "https://www.yapo.cl/region_metropolitana/libros_revistas/la_imagen_de_la_naturaleza_en_la_fisica_actual_74072636.htm?ca=15_s&first=1&oa=74072636&xsp=0\n",
      "title: La imagen de la naturaleza en la física actual\n",
      "category: Libros y revistas\n",
      "price: 6000\n",
      "date: 2020-08-31\n",
      "description: -Werner Heisenberg  La imagen de la naturaleza en la física actual  Ediciones Orbis Hyspamerica, 1986 152 pag. Tapa dura en buen estado  Entrega Estación las Mercedes linea 4 del  Metro Puente Alto  Whatsapp +56 989279541\n",
      "username: Jorge Guzman\n",
      "regionCode: Región\n",
      "regionName: Metropolitana\n",
      "city: Puente Alto\n",
      "\n",
      "\n",
      "https://www.yapo.cl/valparaiso/celulares/aro_de_luz_mini_para_celular_74072635.htm?ca=6_s&oa=74072635&xsp=1\n",
      "title: Aro de luz mini para celular\n",
      "category: Celulares, teléfonos y accesorios\n",
      "price: 8000\n",
      "date: 2020-08-31\n",
      "description: Aro de luz, todos probados. Usa 2 pilas AAA . Entrego a domicilio en Villa Alemana y Quilpué\n",
      "username: Carolina\n",
      "regionCode: V\n",
      "regionName: Valparaíso\n",
      "city: Villa Alemana\n",
      "\n",
      "\n",
      "https://www.yapo.cl/tarapaca/negocios_maquinaria_construccion/termofusora_800_w_74072634.htm?ca=2_s&oa=74072634&xsp=2\n",
      "title: Termofusora 800 w\n",
      "category: Negocios, maquinaria y construcción\n",
      "date: 2020-08-31\n",
      "description: TERMOFUSORA 800 W , NUEVA SIN NINGUN USO 45mil pesos , contactar 941869071\n",
      "username: Mirella Roncal\n",
      "regionCode: I\n",
      "regionName: Tarapacá\n",
      "city: Iquique\n",
      "\n",
      "\n",
      "https://www.yapo.cl/region_metropolitana/negocios_maquinaria_construccion/placas_de_madera_8mm_de_40x120_cm_74072633.htm?ca=15_s&oa=74072633&xsp=3\n",
      "title: Placas de madera 8mm de 40x120 cm\n",
      "category: Negocios, maquinaria y construcción\n",
      "price: 800\n",
      "date: 2020-08-31\n",
      "description: Se venden placas de madera de 8mm de grosor (120x40 cm). Cada placa vale $800. Porfavor interesados llamar al 957234272\n",
      "username: Pedro Beltran\n",
      "regionCode: Región\n",
      "regionName: Metropolitana\n",
      "city: San Ramón\n",
      "\n",
      "\n"
     ]
    },
    {
     "ename": "WebDriverException",
     "evalue": "Message: chrome not reachable\n  (Session info: chrome=84.0.4147.125)\n",
     "output_type": "error",
     "traceback": [
      "\u001b[0;31m---------------------------------------------------------------------------\u001b[0m",
      "\u001b[0;31mWebDriverException\u001b[0m                        Traceback (most recent call last)",
      "\u001b[0;32m<ipython-input-47-8769647dfa57>\u001b[0m in \u001b[0;36m<module>\u001b[0;34m\u001b[0m\n\u001b[1;32m     16\u001b[0m \u001b[0;34m\u001b[0m\u001b[0m\n\u001b[1;32m     17\u001b[0m         \u001b[0;31m#vamos a la página del anuncio para obtener toda la información que necesitamos\u001b[0m\u001b[0;34m\u001b[0m\u001b[0;34m\u001b[0m\u001b[0;34m\u001b[0m\u001b[0m\n\u001b[0;32m---> 18\u001b[0;31m         \u001b[0mbrowser\u001b[0m\u001b[0;34m.\u001b[0m\u001b[0mget\u001b[0m\u001b[0;34m(\u001b[0m\u001b[0murl\u001b[0m\u001b[0;34m)\u001b[0m\u001b[0;34m\u001b[0m\u001b[0;34m\u001b[0m\u001b[0m\n\u001b[0m\u001b[1;32m     19\u001b[0m         \u001b[0msoup\u001b[0m \u001b[0;34m=\u001b[0m \u001b[0mBeautifulSoup\u001b[0m\u001b[0;34m(\u001b[0m\u001b[0mbrowser\u001b[0m\u001b[0;34m.\u001b[0m\u001b[0mpage_source\u001b[0m\u001b[0;34m,\u001b[0m \u001b[0;34m'html.parser'\u001b[0m\u001b[0;34m)\u001b[0m\u001b[0;34m\u001b[0m\u001b[0;34m\u001b[0m\u001b[0m\n\u001b[1;32m     20\u001b[0m         \u001b[0mprint\u001b[0m\u001b[0;34m(\u001b[0m\u001b[0murl\u001b[0m\u001b[0;34m)\u001b[0m\u001b[0;34m\u001b[0m\u001b[0;34m\u001b[0m\u001b[0m\n",
      "\u001b[0;32m~/.local/lib/python3.8/site-packages/selenium/webdriver/remote/webdriver.py\u001b[0m in \u001b[0;36mget\u001b[0;34m(self, url)\u001b[0m\n\u001b[1;32m    331\u001b[0m         \u001b[0mLoads\u001b[0m \u001b[0ma\u001b[0m \u001b[0mweb\u001b[0m \u001b[0mpage\u001b[0m \u001b[0;32min\u001b[0m \u001b[0mthe\u001b[0m \u001b[0mcurrent\u001b[0m \u001b[0mbrowser\u001b[0m \u001b[0msession\u001b[0m\u001b[0;34m.\u001b[0m\u001b[0;34m\u001b[0m\u001b[0;34m\u001b[0m\u001b[0m\n\u001b[1;32m    332\u001b[0m         \"\"\"\n\u001b[0;32m--> 333\u001b[0;31m         \u001b[0mself\u001b[0m\u001b[0;34m.\u001b[0m\u001b[0mexecute\u001b[0m\u001b[0;34m(\u001b[0m\u001b[0mCommand\u001b[0m\u001b[0;34m.\u001b[0m\u001b[0mGET\u001b[0m\u001b[0;34m,\u001b[0m \u001b[0;34m{\u001b[0m\u001b[0;34m'url'\u001b[0m\u001b[0;34m:\u001b[0m \u001b[0murl\u001b[0m\u001b[0;34m}\u001b[0m\u001b[0;34m)\u001b[0m\u001b[0;34m\u001b[0m\u001b[0;34m\u001b[0m\u001b[0m\n\u001b[0m\u001b[1;32m    334\u001b[0m \u001b[0;34m\u001b[0m\u001b[0m\n\u001b[1;32m    335\u001b[0m     \u001b[0;34m@\u001b[0m\u001b[0mproperty\u001b[0m\u001b[0;34m\u001b[0m\u001b[0;34m\u001b[0m\u001b[0m\n",
      "\u001b[0;32m~/.local/lib/python3.8/site-packages/selenium/webdriver/remote/webdriver.py\u001b[0m in \u001b[0;36mexecute\u001b[0;34m(self, driver_command, params)\u001b[0m\n\u001b[1;32m    319\u001b[0m         \u001b[0mresponse\u001b[0m \u001b[0;34m=\u001b[0m \u001b[0mself\u001b[0m\u001b[0;34m.\u001b[0m\u001b[0mcommand_executor\u001b[0m\u001b[0;34m.\u001b[0m\u001b[0mexecute\u001b[0m\u001b[0;34m(\u001b[0m\u001b[0mdriver_command\u001b[0m\u001b[0;34m,\u001b[0m \u001b[0mparams\u001b[0m\u001b[0;34m)\u001b[0m\u001b[0;34m\u001b[0m\u001b[0;34m\u001b[0m\u001b[0m\n\u001b[1;32m    320\u001b[0m         \u001b[0;32mif\u001b[0m \u001b[0mresponse\u001b[0m\u001b[0;34m:\u001b[0m\u001b[0;34m\u001b[0m\u001b[0;34m\u001b[0m\u001b[0m\n\u001b[0;32m--> 321\u001b[0;31m             \u001b[0mself\u001b[0m\u001b[0;34m.\u001b[0m\u001b[0merror_handler\u001b[0m\u001b[0;34m.\u001b[0m\u001b[0mcheck_response\u001b[0m\u001b[0;34m(\u001b[0m\u001b[0mresponse\u001b[0m\u001b[0;34m)\u001b[0m\u001b[0;34m\u001b[0m\u001b[0;34m\u001b[0m\u001b[0m\n\u001b[0m\u001b[1;32m    322\u001b[0m             response['value'] = self._unwrap_value(\n\u001b[1;32m    323\u001b[0m                 response.get('value', None))\n",
      "\u001b[0;32m~/.local/lib/python3.8/site-packages/selenium/webdriver/remote/errorhandler.py\u001b[0m in \u001b[0;36mcheck_response\u001b[0;34m(self, response)\u001b[0m\n\u001b[1;32m    240\u001b[0m                 \u001b[0malert_text\u001b[0m \u001b[0;34m=\u001b[0m \u001b[0mvalue\u001b[0m\u001b[0;34m[\u001b[0m\u001b[0;34m'alert'\u001b[0m\u001b[0;34m]\u001b[0m\u001b[0;34m.\u001b[0m\u001b[0mget\u001b[0m\u001b[0;34m(\u001b[0m\u001b[0;34m'text'\u001b[0m\u001b[0;34m)\u001b[0m\u001b[0;34m\u001b[0m\u001b[0;34m\u001b[0m\u001b[0m\n\u001b[1;32m    241\u001b[0m             \u001b[0;32mraise\u001b[0m \u001b[0mexception_class\u001b[0m\u001b[0;34m(\u001b[0m\u001b[0mmessage\u001b[0m\u001b[0;34m,\u001b[0m \u001b[0mscreen\u001b[0m\u001b[0;34m,\u001b[0m \u001b[0mstacktrace\u001b[0m\u001b[0;34m,\u001b[0m \u001b[0malert_text\u001b[0m\u001b[0;34m)\u001b[0m\u001b[0;34m\u001b[0m\u001b[0;34m\u001b[0m\u001b[0m\n\u001b[0;32m--> 242\u001b[0;31m         \u001b[0;32mraise\u001b[0m \u001b[0mexception_class\u001b[0m\u001b[0;34m(\u001b[0m\u001b[0mmessage\u001b[0m\u001b[0;34m,\u001b[0m \u001b[0mscreen\u001b[0m\u001b[0;34m,\u001b[0m \u001b[0mstacktrace\u001b[0m\u001b[0;34m)\u001b[0m\u001b[0;34m\u001b[0m\u001b[0;34m\u001b[0m\u001b[0m\n\u001b[0m\u001b[1;32m    243\u001b[0m \u001b[0;34m\u001b[0m\u001b[0m\n\u001b[1;32m    244\u001b[0m     \u001b[0;32mdef\u001b[0m \u001b[0m_value_or_default\u001b[0m\u001b[0;34m(\u001b[0m\u001b[0mself\u001b[0m\u001b[0;34m,\u001b[0m \u001b[0mobj\u001b[0m\u001b[0;34m,\u001b[0m \u001b[0mkey\u001b[0m\u001b[0;34m,\u001b[0m \u001b[0mdefault\u001b[0m\u001b[0;34m)\u001b[0m\u001b[0;34m:\u001b[0m\u001b[0;34m\u001b[0m\u001b[0;34m\u001b[0m\u001b[0m\n",
      "\u001b[0;31mWebDriverException\u001b[0m: Message: chrome not reachable\n  (Session info: chrome=84.0.4147.125)\n"
     ]
    }
   ],
   "source": [
    "for i in range(1, lastPage + 1):\n",
    "    #recorremos y scrappeamos cada página de anuncios\n",
    "    url = pages + str(i)\n",
    "    browser.get(url)\n",
    "    soup = BeautifulSoup(browser.page_source, 'html.parser')\n",
    "    links = soup.findAll('td', {'class':'thumbs_subject'})\n",
    "\n",
    "    #se obtienen todos los links de anuncios en cada página  y luego se scrappea cada una de ellas\n",
    "    \n",
    "    for link in links:\n",
    "        \n",
    "        #todos los datos que vamos a insertar en la base de datos\n",
    "        url, title, category, price, date, description, username, regionCode, regionName, city = 'N/A', 'N/A', 'N/A', 'N/A', 'N/A', 'N/A', 'N/A', 'N/A', 'N/A', 'N/A'\n",
    "        \n",
    "        url = link.a['href']\n",
    "        \n",
    "        #vamos a la página del anuncio para obtener toda la información que necesitamos\n",
    "        browser.get(url)\n",
    "        soup = BeautifulSoup(browser.page_source, 'html.parser')\n",
    "        print(url)\n",
    "\n",
    "        #título del anuncio\n",
    "        if (soup.find('h1', {'id':'da_subject'})):\n",
    "            title = soup.find('h1', {'id':'da_subject'}).text.strip()\n",
    "            print('title:', title)\n",
    "    \n",
    "        #categoría del anuncio\n",
    "        if (soup.find('strong', {'itemprop':'title'})):\n",
    "            category = soup.find('strong', {'itemprop':'title'}).text.strip()\n",
    "            print ('category:', category)\n",
    "\n",
    "        #precio del anuncio\n",
    "        if (soup.find('div', {'class':'price text-right'}, {'itempop':'price'})):\n",
    "            price = soup.find('div', {'class':'price text-right'}, {'itempop':'price'}).text.strip('$\\n\\t').replace('.','')\n",
    "            print ('price:', price)\n",
    "\n",
    "        #fecha del anuncio\n",
    "        if (soup.find('small', {'class':'date'})):\n",
    "            date = soup.find('small', {'class':'date'}).time['datetime'][:10]\n",
    "            print('date:', date)\n",
    "\n",
    "        #descripción del anuncio\n",
    "        if (soup.find('p', {'itemprop':'description'})):\n",
    "            description = soup.find('p', {'itemprop':'description'}).text.replace('\\n',' ').strip()\n",
    "            print('description:', description)\n",
    "\n",
    "        #nombre de usuario del vendedor\n",
    "        if (soup.find('aside', {'class':'sidebar-right'}).find('seller-info')):\n",
    "            sellerInfo = soup.find('aside', {'class':'sidebar-right'}).find('seller-info')\n",
    "            username = sellerInfo['username']\n",
    "            print('username:', username)\n",
    "            \n",
    "        #código de la región, nombre de la región y ciudad\n",
    "        if (sellerInfo['region']):\n",
    "            region = sellerInfo['region']\n",
    "            regionCode = region[:region.find(' ')]\n",
    "            regionName = region[region.find(' ') + 1:region.find(',')]\n",
    "            city = region[region.find(',') + 2:]\n",
    "\n",
    "            print('regionCode:', regionCode)\n",
    "            print('regionName:', regionName)\n",
    "            print('city:', city)\n",
    "\n",
    "        print('\\n')\n",
    "\n",
    "        #se crean las tuplas de cada tabla para insertarlas\n",
    "        adsTuple = (url, title, description, price, category, date, username)\n",
    "        usersTuple = (username,city,regionCode,regionName)\n",
    "\n",
    "        #llenamos la tabla usuario\n",
    "        try:\n",
    "            sql = 'INSERT INTO usuario (nombre, ciudad, codigo_region, nombre_region) VALUES (%s, %s, %s, %s);'\n",
    "            cursor.execute(sql, usersTuple)\n",
    "        except:\n",
    "            cursor.execute('ROLLBACK;')\n",
    "            continue\n",
    "\n",
    "        #llenamos la tabla anuncio\n",
    "        try:\n",
    "            sql = 'INSERT INTO anuncio (url, titulo, descripcion, precio, categoria, fecha, vendedor) VALUES (%s, %s, %s, %s, %s, %s, %s);'\n",
    "            cursor.execute(sql, adsTuple)\n",
    "        except:\n",
    "            cursor.execute('ROLLBACK;')\n",
    "            continue\n",
    "            \n",
    "        cursor.execute(\"COMMIT;\")"
   ]
  },
  {
   "cell_type": "markdown",
   "metadata": {},
   "source": [
    "3- Insertar una columna “Perfil” en la tabla Vendedor. Los Vendedores que publicaron más de 5 anuncios en los últimos 7 días, tienen un perfil “Pro”, los otros se consideran “Personal”."
   ]
  },
  {
   "cell_type": "code",
   "execution_count": 56,
   "metadata": {
    "scrolled": true
   },
   "outputs": [
    {
     "ename": "InternalError",
     "evalue": "Unread result found",
     "output_type": "error",
     "traceback": [
      "\u001b[0;31m---------------------------------------------------------------------------\u001b[0m",
      "\u001b[0;31mInternalError\u001b[0m                             Traceback (most recent call last)",
      "\u001b[0;32m<ipython-input-56-301ebbe5d1c1>\u001b[0m in \u001b[0;36m<module>\u001b[0;34m\u001b[0m\n\u001b[0;32m----> 1\u001b[0;31m \u001b[0mcursor\u001b[0m\u001b[0;34m.\u001b[0m\u001b[0mexecute\u001b[0m\u001b[0;34m(\u001b[0m\u001b[0;34m'select nombre, perfil from usuario;'\u001b[0m\u001b[0;34m)\u001b[0m\u001b[0;34m\u001b[0m\u001b[0;34m\u001b[0m\u001b[0m\n\u001b[0m\u001b[1;32m      2\u001b[0m \u001b[0ma\u001b[0m \u001b[0;34m=\u001b[0m \u001b[0mDataFrame\u001b[0m\u001b[0;34m(\u001b[0m\u001b[0mcursor\u001b[0m\u001b[0;34m.\u001b[0m\u001b[0mfetchall\u001b[0m\u001b[0;34m(\u001b[0m\u001b[0;34m)\u001b[0m\u001b[0;34m)\u001b[0m\u001b[0;34m\u001b[0m\u001b[0;34m\u001b[0m\u001b[0m\n\u001b[1;32m      3\u001b[0m \u001b[0ma\u001b[0m\u001b[0;34m\u001b[0m\u001b[0;34m\u001b[0m\u001b[0m\n",
      "\u001b[0;32m~/.local/lib/python3.8/site-packages/mysql/connector/cursor_cext.py\u001b[0m in \u001b[0;36mexecute\u001b[0;34m(self, operation, params, multi)\u001b[0m\n\u001b[1;32m    232\u001b[0m         \u001b[0;32mif\u001b[0m \u001b[0;32mnot\u001b[0m \u001b[0mself\u001b[0m\u001b[0;34m.\u001b[0m\u001b[0m_cnx\u001b[0m\u001b[0;34m:\u001b[0m\u001b[0;34m\u001b[0m\u001b[0;34m\u001b[0m\u001b[0m\n\u001b[1;32m    233\u001b[0m             \u001b[0;32mraise\u001b[0m \u001b[0merrors\u001b[0m\u001b[0;34m.\u001b[0m\u001b[0mProgrammingError\u001b[0m\u001b[0;34m(\u001b[0m\u001b[0;34m\"Cursor is not connected\"\u001b[0m\u001b[0;34m)\u001b[0m\u001b[0;34m\u001b[0m\u001b[0;34m\u001b[0m\u001b[0m\n\u001b[0;32m--> 234\u001b[0;31m         \u001b[0mself\u001b[0m\u001b[0;34m.\u001b[0m\u001b[0m_cnx\u001b[0m\u001b[0;34m.\u001b[0m\u001b[0mhandle_unread_result\u001b[0m\u001b[0;34m(\u001b[0m\u001b[0;34m)\u001b[0m\u001b[0;34m\u001b[0m\u001b[0;34m\u001b[0m\u001b[0m\n\u001b[0m\u001b[1;32m    235\u001b[0m \u001b[0;34m\u001b[0m\u001b[0m\n\u001b[1;32m    236\u001b[0m         \u001b[0mstmt\u001b[0m \u001b[0;34m=\u001b[0m \u001b[0;34m''\u001b[0m\u001b[0;34m\u001b[0m\u001b[0;34m\u001b[0m\u001b[0m\n",
      "\u001b[0;32m~/.local/lib/python3.8/site-packages/mysql/connector/connection_cext.py\u001b[0m in \u001b[0;36mhandle_unread_result\u001b[0;34m(self, prepared)\u001b[0m\n\u001b[1;32m    710\u001b[0m             \u001b[0mself\u001b[0m\u001b[0;34m.\u001b[0m\u001b[0mconsume_results\u001b[0m\u001b[0;34m(\u001b[0m\u001b[0;34m)\u001b[0m\u001b[0;34m\u001b[0m\u001b[0;34m\u001b[0m\u001b[0m\n\u001b[1;32m    711\u001b[0m         \u001b[0;32melif\u001b[0m \u001b[0munread_result\u001b[0m\u001b[0;34m:\u001b[0m\u001b[0;34m\u001b[0m\u001b[0;34m\u001b[0m\u001b[0m\n\u001b[0;32m--> 712\u001b[0;31m             \u001b[0;32mraise\u001b[0m \u001b[0merrors\u001b[0m\u001b[0;34m.\u001b[0m\u001b[0mInternalError\u001b[0m\u001b[0;34m(\u001b[0m\u001b[0;34m\"Unread result found\"\u001b[0m\u001b[0;34m)\u001b[0m\u001b[0;34m\u001b[0m\u001b[0;34m\u001b[0m\u001b[0m\n\u001b[0m",
      "\u001b[0;31mInternalError\u001b[0m: Unread result found"
     ]
    }
   ],
   "source": [
    "cursor.execute('select nombre, perfil from usuario;')\n",
    "a = DataFrame "
   ]
  },
  {
   "cell_type": "code",
   "execution_count": null,
   "metadata": {},
   "outputs": [],
   "source": []
  }
 ],
 "metadata": {
  "kernelspec": {
   "display_name": "Python 3",
   "language": "python",
   "name": "python3"
  },
  "language_info": {
   "codemirror_mode": {
    "name": "ipython",
    "version": 3
   },
   "file_extension": ".py",
   "mimetype": "text/x-python",
   "name": "python",
   "nbconvert_exporter": "python",
   "pygments_lexer": "ipython3",
   "version": "3.8.5"
  }
 },
 "nbformat": 4,
 "nbformat_minor": 4
}
