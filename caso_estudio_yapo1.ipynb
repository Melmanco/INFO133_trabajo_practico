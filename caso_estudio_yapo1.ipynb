{
 "cells": [
  {
   "cell_type": "markdown",
   "metadata": {},
   "source": [
    "# 1. Construcción de Base de Datos"
   ]
  },
  {
   "cell_type": "code",
   "execution_count": 1,
   "metadata": {},
   "outputs": [],
   "source": [
    "import mysql.connector\n",
    "\n",
    "dbConnection = mysql.connector.connect(user='root', host='localhost', password='')\n",
    "cursor = dbConnection.cursor()"
   ]
  },
  {
   "cell_type": "code",
   "execution_count": 2,
   "metadata": {},
   "outputs": [],
   "source": [
    "#si no existe la database, no la elimina\n",
    "try:\n",
    "    cursor.execute('DROP DATABASE Yapo;')\n",
    "except mysql.connector.errors.DatabaseError:\n",
    "    pass"
   ]
  },
  {
   "cell_type": "code",
   "execution_count": 3,
   "metadata": {},
   "outputs": [],
   "source": [
    "cursor.execute('CREATE DATABASE Yapo;')\n",
    "cursor.execute('USE Yapo;')\n",
    "\n",
    "#tabla de usuario\n",
    "cursor.execute('''CREATE TABLE usuario (\n",
    "                nombre VARCHAR(100) PRIMARY KEY, ciudad VARCHAR(30),\n",
    "                codigo_region VARCHAR(3), nombre_region VARCHAR(30));''')\n",
    "\n",
    "#tabla de anuncio\n",
    "cursor.execute('''CREATE TABLE anuncio (\n",
    "                url VARCHAR(300) PRIMARY KEY, titulo VARCHAR(200), descripcion MEDIUMTEXT,\n",
    "                precio VARCHAR(30), categoria VARCHAR(50), fecha DATE, vendedor VARCHAR(100),\n",
    "                FOREIGN KEY (vendedor) REFERENCES usuario(nombre));''')"
   ]
  },
  {
   "cell_type": "markdown",
   "metadata": {},
   "source": [
    "# 2. Scrapping para llenar base de datos"
   ]
  },
  {
   "cell_type": "code",
   "execution_count": 4,
   "metadata": {},
   "outputs": [],
   "source": [
    "from bs4 import BeautifulSoup\n",
    "from selenium import webdriver\n",
    "from pandas import DataFrame"
   ]
  },
  {
   "cell_type": "markdown",
   "metadata": {},
   "source": [
    "Con el webdriver de la librería selenium, abrimos un navegador Chrome en la página de todos los anuncios de Yapo"
   ]
  },
  {
   "cell_type": "code",
   "execution_count": 5,
   "metadata": {},
   "outputs": [],
   "source": [
    "browser = webdriver.Chrome()\n",
    "yapoUrl = 'https://www.yapo.cl/chile/todos_los_avisos?ca=12_s&l=0'\n",
    "browser.get(yapoUrl)"
   ]
  },
  {
   "cell_type": "markdown",
   "metadata": {},
   "source": [
    "Con la librería BeautifulSoup, realizamos un scrapping para obtener el url de \"última página\""
   ]
  },
  {
   "cell_type": "code",
   "execution_count": 6,
   "metadata": {},
   "outputs": [],
   "source": [
    "soup = BeautifulSoup(browser.page_source, 'html.parser')\n",
    "\n",
    "pages = soup.find('span', {'class', 'nohistory FloatRight'}).a['href']"
   ]
  },
  {
   "cell_type": "code",
   "execution_count": 7,
   "metadata": {
    "scrolled": true
   },
   "outputs": [
    {
     "data": {
      "text/plain": [
       "'https://www.yapo.cl/chile?ca=12_s&o=27911'"
      ]
     },
     "execution_count": 7,
     "metadata": {},
     "output_type": "execute_result"
    }
   ],
   "source": [
    "pages"
   ]
  },
  {
   "cell_type": "markdown",
   "metadata": {},
   "source": [
    "El parámetro \"o\" corresponde al número de la página, así que usaremos este para recorrer todas las páginas de anuncios"
   ]
  },
  {
   "cell_type": "code",
   "execution_count": 8,
   "metadata": {},
   "outputs": [
    {
     "name": "stdout",
     "output_type": "stream",
     "text": [
      "35\n",
      "27911\n",
      "https://www.yapo.cl/chile?ca=12_s&o=\n"
     ]
    }
   ],
   "source": [
    "index = pages.rfind('=')\n",
    "print(index)\n",
    "lastPage = int(pages[index+1:])\n",
    "print(lastPage)\n",
    "pages = pages[:index+1]\n",
    "print(pages)"
   ]
  },
  {
   "cell_type": "markdown",
   "metadata": {},
   "source": [
    "\"index\"   : corresponde al índice del último caracter \"=\"\n",
    "\"lastPage\": corresponde al número de la última página de anuncios\n",
    "\"pages\"   : es el enlace \"base\" que vamos a usar para iterar por todas las páginas de anuncios de chile"
   ]
  },
  {
   "cell_type": "code",
   "execution_count": 9,
   "metadata": {
    "scrolled": true
   },
   "outputs": [
    {
     "name": "stdout",
     "output_type": "stream",
     "text": [
      "https://www.yapo.cl/region_metropolitana/bicicletas_ciclismo/bicicleta_nin__simpson_74076605.htm?ca=15_s&first=1&oa=74076605&xsp=0\n",
      "title: Bicicleta niñ@ Simpson\n",
      "category: Bicicletas, ciclismo y accesorios\n",
      "price: 25000\n",
      "date: 2020-08-31\n",
      "description: Bicicleta poco uso. 4-8 años\n",
      "username: Jacqueline\n",
      "regionCode: Región\n",
      "regionName: Metropolitana\n",
      "city: La Reina\n",
      "\n",
      "\n",
      "https://www.yapo.cl/valparaiso/moda-vestuario/polera__74076604.htm?ca=6_s&oa=74076604&xsp=1\n",
      "title: Polera\n",
      "category: Moda y vestuario\n",
      "price: 2000\n",
      "date: 2020-08-31\n",
      "description: FOOTBALL AMERICANO TALLA L, DETALLE EN UNA MANGA (MANCHA)\n",
      "username: yarithza avalos\n",
      "regionCode: V\n",
      "regionName: Valparaíso\n",
      "city: Valparaíso\n",
      "\n",
      "\n",
      "https://www.yapo.cl/region_metropolitana/moda-vestuario/buzo_gap_original_m_y_l_74076603.htm?ca=15_s&oa=74076603&xsp=2\n",
      "title: Buzo gap original M y L\n",
      "category: Moda y vestuario\n",
      "price: 60000\n",
      "date: 2020-08-31\n",
      "description: Nuevos y originales solo talla m y L retira en La comuna de San Miguel, Envíos a todo el pais +56940779377\n",
      "username: giovanni valdes \n",
      "regionCode: Región\n",
      "regionName: Metropolitana\n",
      "city: San Miguel\n",
      "\n",
      "\n",
      "https://www.yapo.cl/valparaiso/consolas_videojuegos/caja_2ds_edicion_mario_kart___manual___otros_74076602.htm?ca=6_s&oa=74076602&xsp=3\n",
      "title: Caja 2DS Edición Mario Kart + Manual + Otros\n",
      "category: Consolas, videojuegos y accesorios\n",
      "price: 15000\n",
      "date: 2020-08-31\n",
      "description: Caja original de consola Nintendo 2DS Edición Mario Kart Azul, incluye manual, cartas de AR oficiales, bolsas. Todos los elementos en perfecto estado, practicamente sin ningún uso.-Importante: Solo caja para colección o repuesto, no incluye consola.-Entregas en Viña del Mar (reloj de flores o estacion metro Miramar).-\n",
      "username: Sergio \n",
      "regionCode: V\n",
      "regionName: Valparaíso\n",
      "city: Viña del Mar\n",
      "\n",
      "\n",
      "https://www.yapo.cl/region_metropolitana/calzado/zapatilla_negra_n_33_con_bordados_brillantes__74076601.htm?ca=15_s&oa=74076601&xsp=4\n",
      "title: Zapatilla negra N°33 con bordados brillantes\n",
      "category: Calzado\n",
      "price: 8000\n",
      "date: 2020-08-31\n",
      "description: Zapatilla N°33 negra con detalle bordado brillante nuevas\n",
      "username: cynthia.serey.fer\n",
      "regionCode: Región\n",
      "regionName: Metropolitana\n",
      "city: Puente Alto\n",
      "\n",
      "\n",
      "https://www.yapo.cl/los_rios/autos/faw_v5_estandar__74076600.htm?ca=11_s&oa=74076600&xsp=5\n",
      "title: FAW V5 ESTANDAR\n",
      "category: Autos, camionetas y 4x4\n",
      "price: 3650000\n",
      "date: 2020-08-31\n",
      "description: Se vende o permuta por camioneta este auto en muy buen estado y con super poco uso. Motor 1.5 solo con detalles estéticos y espejo conductor trizado. Segundo dueño consultas verdaderos interesados con luis soto numero 944586393\n",
      "username: Diego Lopez \n",
      "regionCode: XIV\n",
      "regionName: Los Ríos\n",
      "city: Valdivia\n",
      "\n",
      "\n",
      "https://www.yapo.cl/region_metropolitana/salud-belleza/onduladora_74076599.htm?ca=15_s&oa=74076599&xsp=6\n",
      "title: Onduladora\n",
      "category: Salud y belleza\n",
      "price: 12500\n",
      "date: 2020-08-31\n",
      "description: Onduladora profesional rizador de pelo rulos magicos rizador  . Voltaje de 220V  . Modelo: JJ-8558 . Frecuencia: 50/60Hz . Ideal para viajar . Tiempo de calentamiento: 30 segundos . Potencia de 35W . Temperatura hasta 190°  . Medidas: 300x40mm Aprox. . Temperatura regulable: 180 ºC . Interruptor: On-Off . Revestimento: Cerámica Avanzada . Seguridad: Punta fría de protección . Guías en espiral para facilitar el rizado  Contenido del producto: 1 x Ondulador de pelo Manual de uso(PRECIO INCLUYE DESPACHO A DOMICILIO DENTRO DE REGION METROPOLITANA)\n",
      "username: Lucas\n",
      "regionCode: Región\n",
      "regionName: Metropolitana\n",
      "city: La Florida\n",
      "\n",
      "\n",
      "https://www.yapo.cl/region_metropolitana/accesorios_vehiculos/caliper_izquierdo_nissan_van_1987_1990_74076598.htm?ca=15_s&oa=74076598&xsp=7\n",
      "title: Caliper Izquierdo Nissan Van 1987-1990\n",
      "category: Accesorios y piezas para vehículos\n",
      "price: 30000\n",
      "date: 2020-08-31\n",
      "description: C31  Caliper izquierdo Lh Nissan Van 1987-1990.Repuesto original usado en buen estado+569 8157 2327 +569 9995 2466 -Rapido despacho a todo Chile encomienda por pagar via Pullman cargo, Starken y Chilexpress. -Si cancela antes de las 14:00 horas, enviamos en el mismo dia (dia hábil)-Tienda fisica y virtual con mas de 11.000 productos publicados disponibles.-Local establecido con mas de 16 años en el mercado.-Si desea venir a comprar a nuestro local de ventas, estamos ubicados en: calle Maule 1042, Santiago Centro.R.\n",
      "username: Desarmaduria Medina 4x4\n",
      "regionCode: Región\n",
      "regionName: Metropolitana\n",
      "city: Santiago\n",
      "\n",
      "\n",
      "https://www.yapo.cl/region_metropolitana/articulos-del-hogar/alfombra_peluda_suave_homy_74076597.htm?ca=15_s&oa=74076597&xsp=8\n",
      "title: Alfombra Peluda Suave Homy\n",
      "category: Otros artículos del hogar\n",
      "price: 40000\n",
      "date: 2020-08-31\n",
      "description: Alfombra Peluda Homy, ideal para todo tipo de ambientes. Muy cómoda y conveniente, en perfectas condiciones y limpia. Muy agradable, entrega suavidad y textura a tu hogar. Medidas: 160cm × 230cm\n",
      "username: Nicolás Rojas Bravo\n",
      "regionCode: Región\n",
      "regionName: Metropolitana\n",
      "city: Las Condes\n",
      "\n",
      "\n",
      "https://www.yapo.cl/region_metropolitana/servicios/instalaciones_piscinas_fibra_de_vidrio_74076596.htm?ca=15_s&oa=74076596&xsp=9\n",
      "title: Instalaciones Piscinas fibra de vidrio\n",
      "category: Servicios\n",
      "price: 1500000\n",
      "date: 2020-08-31\n",
      "description: Venta de cascos, instalaciones completas de Piscinas de Fibra de Vidrio con todos sus equipos, instalación de borde Fulget, tenemos mas de 20 modelos a Elección.consultas al +56995943356\n",
      "username: Jennifer Carolina Atenas Salvador\n",
      "regionCode: Región\n",
      "regionName: Metropolitana\n",
      "city: Santiago\n",
      "\n",
      "\n",
      "https://www.yapo.cl/antofagasta/camiones_furgones/camion_dongfeng_74076595.htm?ca=3_s&oa=74076595&xsp=10\n",
      "title: Camión dongfeng\n",
      "category: Buses, camiones y furgones\n",
      "date: 2020-08-31\n",
      "description: Comunicarse al +569 94977559\n",
      "username: compraventa\n",
      "regionCode: II\n",
      "regionName: Antofagasta\n",
      "city: Antofagasta\n",
      "\n",
      "\n",
      "https://www.yapo.cl/region_metropolitana/calzado/zapatillas_de_mujer_marca_asics_74076594.htm?ca=15_s&oa=74076594&xsp=11\n",
      "title: Zapatillas de mujer marca Asics\n",
      "category: Calzado\n",
      "price: 35000\n",
      "date: 2020-08-31\n",
      "description: Zapatillas deportivas marca Asics de mujer, nro 39NUEVASTALLA ÚNICAPrecio normal $79.990Entrego en metro Irarrázaval o cercanas.\n",
      "username: Soledad Sandoval Uribe\n",
      "regionCode: Región\n",
      "regionName: Metropolitana\n",
      "city: Santiago\n",
      "\n",
      "\n",
      "https://www.yapo.cl/region_metropolitana/negocios_maquinaria_construccion/juego_inflable_tobogan_doble_muy_bien_cuidado_74076593.htm?ca=15_s&oa=74076593&xsp=12\n",
      "title: Juego inflable tobogan doble muy bien cuidado\n",
      "category: Negocios, maquinaria y construcción\n",
      "price: 900000\n",
      "date: 2020-08-31\n",
      "description: Juego mas turbina  Tela argentina alta resistencia  5 mts largo 4 mts ancho 5 mts alto\n",
      "username: manuel cadiz\n",
      "regionCode: Región\n",
      "regionName: Metropolitana\n",
      "city: Peñaflor\n",
      "\n",
      "\n",
      "https://www.yapo.cl/magallanes_antartica/moda-vestuario/lote_4_varias_cosas_74076592.htm?ca=14_s&oa=74076592&xsp=13\n"
     ]
    },
    {
     "ename": "AttributeError",
     "evalue": "'NoneType' object has no attribute 'find'",
     "output_type": "error",
     "traceback": [
      "\u001b[0;31m---------------------------------------------------------------------------\u001b[0m",
      "\u001b[0;31mAttributeError\u001b[0m                            Traceback (most recent call last)",
      "\u001b[0;32m<ipython-input-9-8769647dfa57>\u001b[0m in \u001b[0;36m<module>\u001b[0;34m\u001b[0m\n\u001b[1;32m     46\u001b[0m \u001b[0;34m\u001b[0m\u001b[0m\n\u001b[1;32m     47\u001b[0m         \u001b[0;31m#nombre de usuario del vendedor\u001b[0m\u001b[0;34m\u001b[0m\u001b[0;34m\u001b[0m\u001b[0;34m\u001b[0m\u001b[0m\n\u001b[0;32m---> 48\u001b[0;31m         \u001b[0;32mif\u001b[0m \u001b[0;34m(\u001b[0m\u001b[0msoup\u001b[0m\u001b[0;34m.\u001b[0m\u001b[0mfind\u001b[0m\u001b[0;34m(\u001b[0m\u001b[0;34m'aside'\u001b[0m\u001b[0;34m,\u001b[0m \u001b[0;34m{\u001b[0m\u001b[0;34m'class'\u001b[0m\u001b[0;34m:\u001b[0m\u001b[0;34m'sidebar-right'\u001b[0m\u001b[0;34m}\u001b[0m\u001b[0;34m)\u001b[0m\u001b[0;34m.\u001b[0m\u001b[0mfind\u001b[0m\u001b[0;34m(\u001b[0m\u001b[0;34m'seller-info'\u001b[0m\u001b[0;34m)\u001b[0m\u001b[0;34m)\u001b[0m\u001b[0;34m:\u001b[0m\u001b[0;34m\u001b[0m\u001b[0;34m\u001b[0m\u001b[0m\n\u001b[0m\u001b[1;32m     49\u001b[0m             \u001b[0msellerInfo\u001b[0m \u001b[0;34m=\u001b[0m \u001b[0msoup\u001b[0m\u001b[0;34m.\u001b[0m\u001b[0mfind\u001b[0m\u001b[0;34m(\u001b[0m\u001b[0;34m'aside'\u001b[0m\u001b[0;34m,\u001b[0m \u001b[0;34m{\u001b[0m\u001b[0;34m'class'\u001b[0m\u001b[0;34m:\u001b[0m\u001b[0;34m'sidebar-right'\u001b[0m\u001b[0;34m}\u001b[0m\u001b[0;34m)\u001b[0m\u001b[0;34m.\u001b[0m\u001b[0mfind\u001b[0m\u001b[0;34m(\u001b[0m\u001b[0;34m'seller-info'\u001b[0m\u001b[0;34m)\u001b[0m\u001b[0;34m\u001b[0m\u001b[0;34m\u001b[0m\u001b[0m\n\u001b[1;32m     50\u001b[0m             \u001b[0musername\u001b[0m \u001b[0;34m=\u001b[0m \u001b[0msellerInfo\u001b[0m\u001b[0;34m[\u001b[0m\u001b[0;34m'username'\u001b[0m\u001b[0;34m]\u001b[0m\u001b[0;34m\u001b[0m\u001b[0;34m\u001b[0m\u001b[0m\n",
      "\u001b[0;31mAttributeError\u001b[0m: 'NoneType' object has no attribute 'find'"
     ]
    }
   ],
   "source": [
    "for i in range(1, lastPage + 1):\n",
    "    #recorremos y scrappeamos cada página de anuncios\n",
    "    url = pages + str(i)\n",
    "    browser.get(url)\n",
    "    soup = BeautifulSoup(browser.page_source, 'html.parser')\n",
    "    links = soup.findAll('td', {'class':'thumbs_subject'})\n",
    "\n",
    "    #se obtienen todos los links de anuncios en cada página  y luego se scrappea cada una de ellas\n",
    "    \n",
    "    for link in links:\n",
    "        \n",
    "        #todos los datos que vamos a insertar en la base de datos\n",
    "        url, title, category, price, date, description, username, regionCode, regionName, city = 'N/A', 'N/A', 'N/A', 'N/A', 'N/A', 'N/A', 'N/A', 'N/A', 'N/A', 'N/A'\n",
    "        \n",
    "        url = link.a['href']\n",
    "        \n",
    "        #vamos a la página del anuncio para obtener toda la información que necesitamos\n",
    "        browser.get(url)\n",
    "        soup = BeautifulSoup(browser.page_source, 'html.parser')\n",
    "        print(url)\n",
    "\n",
    "        #título del anuncio\n",
    "        if (soup.find('h1', {'id':'da_subject'})):\n",
    "            title = soup.find('h1', {'id':'da_subject'}).text.strip()\n",
    "            print('title:', title)\n",
    "    \n",
    "        #categoría del anuncio\n",
    "        if (soup.find('strong', {'itemprop':'title'})):\n",
    "            category = soup.find('strong', {'itemprop':'title'}).text.strip()\n",
    "            print ('category:', category)\n",
    "\n",
    "        #precio del anuncio\n",
    "        if (soup.find('div', {'class':'price text-right'}, {'itempop':'price'})):\n",
    "            price = soup.find('div', {'class':'price text-right'}, {'itempop':'price'}).text.strip('$\\n\\t').replace('.','')\n",
    "            print ('price:', price)\n",
    "\n",
    "        #fecha del anuncio\n",
    "        if (soup.find('small', {'class':'date'})):\n",
    "            date = soup.find('small', {'class':'date'}).time['datetime'][:10]\n",
    "            print('date:', date)\n",
    "\n",
    "        #descripción del anuncio\n",
    "        if (soup.find('p', {'itemprop':'description'})):\n",
    "            description = soup.find('p', {'itemprop':'description'}).text.replace('\\n',' ').strip()\n",
    "            print('description:', description)\n",
    "\n",
    "        #nombre de usuario del vendedor\n",
    "        if (soup.find('aside', {'class':'sidebar-right'}).find('seller-info')):\n",
    "            sellerInfo = soup.find('aside', {'class':'sidebar-right'}).find('seller-info')\n",
    "            username = sellerInfo['username']\n",
    "            print('username:', username)\n",
    "            \n",
    "        #código de la región, nombre de la región y ciudad\n",
    "        if (sellerInfo['region']):\n",
    "            region = sellerInfo['region']\n",
    "            regionCode = region[:region.find(' ')]\n",
    "            regionName = region[region.find(' ') + 1:region.find(',')]\n",
    "            city = region[region.find(',') + 2:]\n",
    "\n",
    "            print('regionCode:', regionCode)\n",
    "            print('regionName:', regionName)\n",
    "            print('city:', city)\n",
    "\n",
    "        print('\\n')\n",
    "\n",
    "        #se crean las tuplas de cada tabla para insertarlas\n",
    "        adsTuple = (url, title, description, price, category, date, username)\n",
    "        usersTuple = (username,city,regionCode,regionName)\n",
    "\n",
    "        #llenamos la tabla usuario\n",
    "        try:\n",
    "            sql = 'INSERT INTO usuario (nombre, ciudad, codigo_region, nombre_region) VALUES (%s, %s, %s, %s);'\n",
    "            cursor.execute(sql, usersTuple)\n",
    "        except:\n",
    "            cursor.execute('ROLLBACK;')\n",
    "            continue\n",
    "\n",
    "        #llenamos la tabla anuncio\n",
    "        try:\n",
    "            sql = 'INSERT INTO anuncio (url, titulo, descripcion, precio, categoria, fecha, vendedor) VALUES (%s, %s, %s, %s, %s, %s, %s);'\n",
    "            cursor.execute(sql, adsTuple)\n",
    "        except:\n",
    "            cursor.execute('ROLLBACK;')\n",
    "            continue\n",
    "            \n",
    "        cursor.execute(\"COMMIT;\")"
   ]
  },
  {
   "cell_type": "markdown",
   "metadata": {},
   "source": [
    "5.3.- Insertar una columna “Perfil” en la tabla Vendedor. Los Vendedores que publicaron más de 5 anuncios en los últimos 7 días, tienen un perfil “Pro”, los otros se consideran “Personal”."
   ]
  },
  {
   "cell_type": "code",
   "execution_count": 13,
   "metadata": {
    "scrolled": true
   },
   "outputs": [],
   "source": [
    "cursor.execute('ALTER TABLE usuario ADD COLUMN perfil VARCHAR(8);')\n",
    "cursor.execute('UPDATE usuario AS u JOIN (SELECT vendedor, COUNT(vendedor) AS anuncios FROM anuncio GROUP BY vendedor) AS a ON u.nombre = a.vendedor SET u.perfil = if(a.anuncios > 5, \\'Pro\\', \\'Personal\\');')"
   ]
  },
  {
   "cell_type": "markdown",
   "metadata": {},
   "source": [
    "UPDATE usuario AS u JOIN (<br>\n",
    "&emsp;SELECT vendedor, COUNT(vendedor) AS anuncios<br>\n",
    "&emsp;FROM anuncio GROUP BY vendedor) AS a<br>\n",
    "ON u.nombre = a.vendedor<br>\n",
    "SET u.perfil = if(a.anuncios > 5, \\'Pro\\', \\'Personal\\');"
   ]
  },
  {
   "cell_type": "code",
   "execution_count": null,
   "metadata": {},
   "outputs": [],
   "source": []
  }
 ],
 "metadata": {
  "kernelspec": {
   "display_name": "Python 3",
   "language": "python",
   "name": "python3"
  },
  "language_info": {
   "codemirror_mode": {
    "name": "ipython",
    "version": 3
   },
   "file_extension": ".py",
   "mimetype": "text/x-python",
   "name": "python",
   "nbconvert_exporter": "python",
   "pygments_lexer": "ipython3",
   "version": "3.8.5"
  }
 },
 "nbformat": 4,
 "nbformat_minor": 4
}
